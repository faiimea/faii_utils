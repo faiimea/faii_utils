{
 "cells": [
  {
   "cell_type": "code",
   "execution_count": 162,
   "metadata": {},
   "outputs": [],
   "source": [
    "import numpy as np\n",
    "import bvhtoolbox as bt\n",
    "from bvhtoolbox import Bvh, BvhNode,BvhTree\n"
   ]
  },
  {
   "cell_type": "code",
   "execution_count": 163,
   "metadata": {},
   "outputs": [],
   "source": [
    "def add_gaussian_noise(data, mean=0, std=1):\n",
    "    noise = np.random.normal(mean, std, data.shape)\n",
    "    noisy_data = data + noise\n",
    "    return noisy_data\n",
    "\n",
    "def add_laplace_noise(data, loc=0, scale=1):\n",
    "    noise = np.random.laplace(loc, scale, data.shape)\n",
    "    noisy_data = data + noise\n",
    "    return noisy_data\n",
    "\n",
    "def add_cauchy_noise(data, loc=0, scale=1):\n",
    "    noise = np.random.standard_cauchy(data.shape) * scale + loc\n",
    "    noisy_data = data + noise\n",
    "    return noisy_data"
   ]
  },
  {
   "cell_type": "code",
   "execution_count": 164,
   "metadata": {},
   "outputs": [],
   "source": [
    "def add_gaussian_noise(data, noise_columns, mean=0, std=1):\n",
    "    noise = np.random.normal(mean, std, data.shape)\n",
    "    noisy_data = data + noise\n",
    "    noisy_data[:, noise_columns] = data[:, noise_columns]\n",
    "    return noisy_data"
   ]
  },
  {
   "cell_type": "code",
   "execution_count": 165,
   "metadata": {},
   "outputs": [],
   "source": [
    "with open('example_files/test_freebvh.bvh') as f:\n",
    "            mocap = BvhTree(f.read())"
   ]
  },
  {
   "cell_type": "code",
   "execution_count": 166,
   "metadata": {},
   "outputs": [
    {
     "data": {
      "text/plain": [
       "['mixamorig:Hips',\n",
       " 'mixamorig:Spine',\n",
       " 'mixamorig:Spine1',\n",
       " 'mixamorig:Spine2',\n",
       " 'mixamorig:Neck',\n",
       " 'mixamorig:Head',\n",
       " 'mixamorig:HeadTop_End',\n",
       " 'mixamorig:LeftEye',\n",
       " 'mixamorig:RightEye',\n",
       " 'mixamorig:LeftShoulder',\n",
       " 'mixamorig:LeftArm',\n",
       " 'mixamorig:LeftForeArm',\n",
       " 'mixamorig:LeftHand',\n",
       " 'mixamorig:LeftHandMiddle1',\n",
       " 'mixamorig:LeftHandMiddle2',\n",
       " 'mixamorig:LeftHandMiddle3',\n",
       " 'mixamorig:LeftHandThumb1',\n",
       " 'mixamorig:LeftHandThumb2',\n",
       " 'mixamorig:LeftHandThumb3',\n",
       " 'mixamorig:LeftHandIndex1',\n",
       " 'mixamorig:LeftHandIndex2',\n",
       " 'mixamorig:LeftHandIndex3',\n",
       " 'mixamorig:LeftHandRing1',\n",
       " 'mixamorig:LeftHandRing2',\n",
       " 'mixamorig:LeftHandRing3',\n",
       " 'mixamorig:LeftHandPinky1',\n",
       " 'mixamorig:LeftHandPinky2',\n",
       " 'mixamorig:LeftHandPinky3',\n",
       " 'mixamorig:RightShoulder',\n",
       " 'mixamorig:RightArm',\n",
       " 'mixamorig:RightForeArm',\n",
       " 'mixamorig:RightHand',\n",
       " 'mixamorig:RightHandMiddle1',\n",
       " 'mixamorig:RightHandMiddle2',\n",
       " 'mixamorig:RightHandMiddle3',\n",
       " 'mixamorig:RightHandThumb1',\n",
       " 'mixamorig:RightHandThumb2',\n",
       " 'mixamorig:RightHandThumb3',\n",
       " 'mixamorig:RightHandIndex1',\n",
       " 'mixamorig:RightHandIndex2',\n",
       " 'mixamorig:RightHandIndex3',\n",
       " 'mixamorig:RightHandRing1',\n",
       " 'mixamorig:RightHandRing2',\n",
       " 'mixamorig:RightHandRing3',\n",
       " 'mixamorig:RightHandPinky1',\n",
       " 'mixamorig:RightHandPinky2',\n",
       " 'mixamorig:RightHandPinky3',\n",
       " 'mixamorig:RightUpLeg',\n",
       " 'mixamorig:RightLeg',\n",
       " 'mixamorig:RightFoot',\n",
       " 'mixamorig:RightToeBase',\n",
       " 'mixamorig:LeftUpLeg',\n",
       " 'mixamorig:LeftLeg',\n",
       " 'mixamorig:LeftFoot',\n",
       " 'mixamorig:LeftToeBase']"
      ]
     },
     "execution_count": 166,
     "metadata": {},
     "output_type": "execute_result"
    }
   ],
   "source": [
    "mocap.get_joints_names()"
   ]
  },
  {
   "cell_type": "code",
   "execution_count": 167,
   "metadata": {},
   "outputs": [
    {
     "name": "stdout",
     "output_type": "stream",
     "text": [
      "['mixamorig:Head', 'mixamorig:HeadTop_End', 'mixamorig:LeftHand', 'mixamorig:LeftHandMiddle1', 'mixamorig:LeftHandMiddle2', 'mixamorig:LeftHandMiddle3', 'mixamorig:LeftHandThumb1', 'mixamorig:LeftHandThumb2', 'mixamorig:LeftHandThumb3', 'mixamorig:LeftHandIndex1', 'mixamorig:LeftHandIndex2', 'mixamorig:LeftHandIndex3', 'mixamorig:LeftHandRing1', 'mixamorig:LeftHandRing2', 'mixamorig:LeftHandRing3', 'mixamorig:LeftHandPinky1', 'mixamorig:LeftHandPinky2', 'mixamorig:LeftHandPinky3', 'mixamorig:RightHand', 'mixamorig:RightHandMiddle1', 'mixamorig:RightHandMiddle2', 'mixamorig:RightHandMiddle3', 'mixamorig:RightHandThumb1', 'mixamorig:RightHandThumb2', 'mixamorig:RightHandThumb3', 'mixamorig:RightHandIndex1', 'mixamorig:RightHandIndex2', 'mixamorig:RightHandIndex3', 'mixamorig:RightHandRing1', 'mixamorig:RightHandRing2', 'mixamorig:RightHandRing3', 'mixamorig:RightHandPinky1', 'mixamorig:RightHandPinky2', 'mixamorig:RightHandPinky3']\n"
     ]
    }
   ],
   "source": [
    "all_joints = mocap.get_joints_names()\n",
    "\n",
    "selected_joints = [joint for joint in all_joints if 'LeftHand' in joint or 'RightHand' in joint or 'Head' in joint]\n",
    "\n",
    "print(selected_joints)"
   ]
  },
  {
   "cell_type": "code",
   "execution_count": 168,
   "metadata": {},
   "outputs": [
    {
     "name": "stdout",
     "output_type": "stream",
     "text": [
      "55\n"
     ]
    }
   ],
   "source": [
    "print(len(mocap.get_joints_names()))"
   ]
  },
  {
   "cell_type": "code",
   "execution_count": 169,
   "metadata": {},
   "outputs": [],
   "source": [
    "def get_joint_index(data,name):\n",
    "        return data.get_joints(end_sites=False).index(data.get_joint(name))"
   ]
  },
  {
   "cell_type": "code",
   "execution_count": 170,
   "metadata": {},
   "outputs": [],
   "source": [
    "selected_joints_index=[]\n",
    "for i in selected_joints:\n",
    "    selected_joints_index.append(get_joint_index(mocap,i))\n"
   ]
  },
  {
   "cell_type": "code",
   "execution_count": 171,
   "metadata": {},
   "outputs": [
    {
     "name": "stdout",
     "output_type": "stream",
     "text": [
      "54\n"
     ]
    }
   ],
   "source": [
    "print(get_joint_index(mocap,'mixamorig:LeftToeBase'))"
   ]
  },
  {
   "cell_type": "code",
   "execution_count": 172,
   "metadata": {},
   "outputs": [
    {
     "name": "stdout",
     "output_type": "stream",
     "text": [
      "['mixamorig:Hips', 'mixamorig:Spine', 'mixamorig:Spine1', 'mixamorig:Spine2', 'mixamorig:Neck', 'mixamorig:Head', 'mixamorig:HeadTop_End', 'mixamorig:LeftEye', 'mixamorig:RightEye', 'mixamorig:LeftShoulder', 'mixamorig:LeftArm', 'mixamorig:LeftForeArm', 'mixamorig:LeftHand', 'mixamorig:LeftHandMiddle1', 'mixamorig:LeftHandMiddle2', 'mixamorig:LeftHandMiddle3', 'mixamorig:LeftHandThumb1', 'mixamorig:LeftHandThumb2', 'mixamorig:LeftHandThumb3', 'mixamorig:LeftHandIndex1', 'mixamorig:LeftHandIndex2', 'mixamorig:LeftHandIndex3', 'mixamorig:LeftHandRing1', 'mixamorig:LeftHandRing2', 'mixamorig:LeftHandRing3', 'mixamorig:LeftHandPinky1', 'mixamorig:LeftHandPinky2', 'mixamorig:LeftHandPinky3', 'mixamorig:RightShoulder', 'mixamorig:RightArm', 'mixamorig:RightForeArm', 'mixamorig:RightHand', 'mixamorig:RightHandMiddle1', 'mixamorig:RightHandMiddle2', 'mixamorig:RightHandMiddle3', 'mixamorig:RightHandThumb1', 'mixamorig:RightHandThumb2', 'mixamorig:RightHandThumb3', 'mixamorig:RightHandIndex1', 'mixamorig:RightHandIndex2', 'mixamorig:RightHandIndex3', 'mixamorig:RightHandRing1', 'mixamorig:RightHandRing2', 'mixamorig:RightHandRing3', 'mixamorig:RightHandPinky1', 'mixamorig:RightHandPinky2', 'mixamorig:RightHandPinky3', 'mixamorig:RightUpLeg', 'mixamorig:RightLeg', 'mixamorig:RightFoot', 'mixamorig:RightToeBase', 'mixamorig:LeftUpLeg', 'mixamorig:LeftLeg', 'mixamorig:LeftFoot', 'mixamorig:LeftToeBase']\n"
     ]
    }
   ],
   "source": [
    "print(mocap.get_joints_names())"
   ]
  },
  {
   "cell_type": "code",
   "execution_count": 173,
   "metadata": {},
   "outputs": [
    {
     "name": "stdout",
     "output_type": "stream",
     "text": [
      "55\n",
      "168\n"
     ]
    }
   ],
   "source": [
    "frames=bt.get_motion_data(mocap)\n",
    "print(len(mocap.get_joints_names()))\n",
    "print(len(frames[0]))"
   ]
  },
  {
   "cell_type": "code",
   "execution_count": 174,
   "metadata": {},
   "outputs": [
    {
     "name": "stdout",
     "output_type": "stream",
     "text": [
      "69\n"
     ]
    }
   ],
   "source": [
    "print(mocap.nframes)"
   ]
  },
  {
   "cell_type": "code",
   "execution_count": 175,
   "metadata": {},
   "outputs": [
    {
     "name": "stdout",
     "output_type": "stream",
     "text": [
      "[5, 6, 12, 13, 14, 15, 16, 17, 18, 19, 20, 21, 22, 23, 24, 25, 26, 27, 31, 32, 33, 34, 35, 36, 37, 38, 39, 40, 41, 42, 43, 44, 45, 46]\n",
      "[0, 1, 2, 18, 19, 20, 0, 1, 2, 21, 22, 23, 0, 1, 2, 39, 40, 41, 0, 1, 2, 42, 43, 44, 0, 1, 2, 45, 46, 47, 0, 1, 2, 48, 49, 50, 0, 1, 2, 51, 52, 53, 0, 1, 2, 54, 55, 56, 0, 1, 2, 57, 58, 59, 0, 1, 2, 60, 61, 62, 0, 1, 2, 63, 64, 65, 0, 1, 2, 66, 67, 68, 0, 1, 2, 69, 70, 71, 0, 1, 2, 72, 73, 74, 0, 1, 2, 75, 76, 77, 0, 1, 2, 78, 79, 80, 0, 1, 2, 81, 82, 83, 0, 1, 2, 84, 85, 86, 0, 1, 2, 96, 97, 98, 0, 1, 2, 99, 100, 101, 0, 1, 2, 102, 103, 104, 0, 1, 2, 105, 106, 107, 0, 1, 2, 108, 109, 110, 0, 1, 2, 111, 112, 113, 0, 1, 2, 114, 115, 116, 0, 1, 2, 117, 118, 119, 0, 1, 2, 120, 121, 122, 0, 1, 2, 123, 124, 125, 0, 1, 2, 126, 127, 128, 0, 1, 2, 129, 130, 131, 0, 1, 2, 132, 133, 134, 0, 1, 2, 135, 136, 137, 0, 1, 2, 138, 139, 140, 0, 1, 2, 141, 142, 143]\n"
     ]
    }
   ],
   "source": [
    "print(selected_joints_index)\n",
    "changed_joints_index=[]\n",
    "for i in selected_joints_index:\n",
    "    changed_joints_index+=[0,1,2]\n",
    "    changed_joints_index.append(3+int(i*3))\n",
    "    changed_joints_index.append(4+int(i*3))\n",
    "    changed_joints_index.append(5+int(i*3))\n",
    "print(changed_joints_index)"
   ]
  },
  {
   "cell_type": "code",
   "execution_count": 176,
   "metadata": {},
   "outputs": [],
   "source": [
    "frames=add_gaussian_noise(frames,changed_joints_index)"
   ]
  },
  {
   "cell_type": "code",
   "execution_count": 177,
   "metadata": {},
   "outputs": [
    {
     "data": {
      "text/plain": [
       "True"
      ]
     },
     "execution_count": 177,
     "metadata": {},
     "output_type": "execute_result"
    }
   ],
   "source": [
    "bt.set_motion_data(mocap,frames)\n",
    "mocap.write_file('example_files/test_freebvh_out.bvh')"
   ]
  },
  {
   "cell_type": "code",
   "execution_count": 178,
   "metadata": {},
   "outputs": [
    {
     "name": "stdout",
     "output_type": "stream",
     "text": [
      "344\n",
      "299\n",
      "599\n",
      "495\n",
      "317\n",
      "330\n",
      "416\n",
      "450\n",
      "518\n",
      "418\n",
      "380\n",
      "363\n",
      "307\n",
      "302\n",
      "316\n",
      "264\n",
      "278\n",
      "310\n",
      "354\n",
      "485\n",
      "299\n",
      "297\n",
      "303\n",
      "284\n",
      "294\n",
      "276\n",
      "376\n",
      "1919\n",
      "550\n",
      "524\n",
      "674\n",
      "566\n",
      "5525\n",
      "12551\n",
      "7876\n",
      "9004\n",
      "535\n",
      "442\n",
      "445\n",
      "477\n",
      "472\n",
      "511\n",
      "519\n",
      "521\n",
      "411\n",
      "504\n",
      "313\n",
      "308\n",
      "300\n",
      "298\n",
      "285\n",
      "270\n",
      "244\n",
      "272\n",
      "283\n",
      "267\n",
      "425\n",
      "581\n",
      "286\n",
      "348\n",
      "417\n",
      "343\n",
      "6306\n",
      "6363\n",
      "6354\n",
      "6384\n",
      "6340\n",
      "6201\n",
      "6427\n",
      "6180\n",
      "6080\n",
      "834\n",
      "1034\n",
      "1317\n",
      "483\n",
      "435\n",
      "359\n",
      "407\n",
      "428\n",
      "434\n",
      "428\n",
      "439\n",
      "361\n",
      "456\n",
      "385\n",
      "433\n",
      "386\n",
      "398\n",
      "455\n",
      "412\n",
      "407\n",
      "444\n",
      "418\n",
      "498\n",
      "413\n",
      "422\n",
      "393\n",
      "422\n",
      "416\n",
      "4274\n",
      "3853\n",
      "3891\n",
      "512\n",
      "353\n",
      "421\n",
      "8632\n",
      "379\n",
      "401\n",
      "408\n",
      "411\n",
      "401\n",
      "369\n",
      "368\n",
      "351\n",
      "396\n",
      "392\n",
      "895\n",
      "428\n",
      "379\n",
      "400\n",
      "4995\n",
      "6189\n",
      "5898\n",
      "6086\n",
      "4388\n",
      "5953\n",
      "7068\n",
      "7226\n",
      "7106\n",
      "422\n",
      "457\n",
      "617\n",
      "1320\n",
      "653\n",
      "531\n",
      "1507\n"
     ]
    }
   ],
   "source": [
    "import os\n",
    "\n",
    "def modify_bvh_files(folder_path):\n",
    "    # 获取文件夹中的所有文件\n",
    "    files = [f for f in os.listdir(folder_path) if os.path.isfile(os.path.join(folder_path, f))]\n",
    "\n",
    "    for file_name in files:\n",
    "        file_path = os.path.join(folder_path, file_name)\n",
    "        \n",
    "        # 检查文件扩展名是否为 BVH\n",
    "        if file_name.lower().endswith(\".bvh\"):\n",
    "            # 读取并修改 BVH 数据\n",
    "            with open(file_path) as f:\n",
    "                mocap = BvhTree(f.read())\n",
    "                \n",
    "                # 在这里进行 BVH 数据的修改，例如添加噪声等\n",
    "                print(mocap.nframes)\n",
    "                \n",
    "                # 将修改后的 BVH 数据写回文件\n",
    "                # modified_file_path = os.path.join(folder_path, \"modified_\" + file_name)\n",
    "                # mocap.write_file(modified_file_path)\n",
    "                # print(f\"Modified BVH written to: {modified_file_path}\")\n",
    "\n",
    "# 指定包含 BVH 文件的文件夹路径\n",
    "folder_path = \"D:\\dataset\\Data-to-fz\\cmu-walk\"\n",
    "\n",
    "# 调用函数进行批量处理\n",
    "modify_bvh_files(folder_path)"
   ]
  },
  {
   "cell_type": "code",
   "execution_count": 180,
   "metadata": {},
   "outputs": [],
   "source": [
    "from PIL import Image\n",
    "\n",
    "# 图片尺寸\n",
    "width, height = 1920, 1080\n",
    "\n",
    "# 生成纯黑图片\n",
    "image = Image.new(\"RGB\", (width, height), color=\"black\")\n",
    "\n",
    "# 保存图片\n",
    "image.save(\"black_image.png\")\n",
    "\n",
    "# 或者显示图片\n",
    "image.show()"
   ]
  }
 ],
 "metadata": {
  "kernelspec": {
   "display_name": "myenv",
   "language": "python",
   "name": "python3"
  },
  "language_info": {
   "codemirror_mode": {
    "name": "ipython",
    "version": 3
   },
   "file_extension": ".py",
   "mimetype": "text/x-python",
   "name": "python",
   "nbconvert_exporter": "python",
   "pygments_lexer": "ipython3",
   "version": "3.9.18"
  }
 },
 "nbformat": 4,
 "nbformat_minor": 2
}
