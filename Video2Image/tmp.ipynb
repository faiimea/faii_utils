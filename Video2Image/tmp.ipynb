{
 "cells": [
  {
   "cell_type": "code",
   "execution_count": 1,
   "metadata": {},
   "outputs": [],
   "source": [
    "from PIL import Image\n",
    "\n",
    "# 创建一个黑色图片\n",
    "width, height = 1920, 1080\n",
    "black_image = Image.new('RGB', (width, height), (0, 0, 0))\n",
    "\n",
    "# 保存图片\n",
    "black_image.save('bgr.jpg')\n",
    "\n",
    "# 如果你想要在程序中使用这个图片，可以直接使用black_image对象\n"
   ]
  },
  {
   "cell_type": "code",
   "execution_count": 1,
   "metadata": {},
   "outputs": [
    {
     "name": "stdout",
     "output_type": "stream",
     "text": [
      "Saved 331 frames as images in frames\n"
     ]
    }
   ],
   "source": [
    "import cv2\n",
    "import os\n",
    "\n",
    "# 视频文件路径\n",
    "video_file = 'pha.mp4'\n",
    "\n",
    "# 创建保存帧的目录\n",
    "output_directory = 'frames'\n",
    "os.makedirs(output_directory, exist_ok=True)\n",
    "\n",
    "# 打开视频文件\n",
    "cap = cv2.VideoCapture(video_file)\n",
    "\n",
    "# 获取视频的帧率\n",
    "fps = int(cap.get(cv2.CAP_PROP_FPS))\n",
    "\n",
    "# 循环读取每一帧并保存为图片\n",
    "frame_count = 0\n",
    "while True:\n",
    "    ret, frame = cap.read()\n",
    "    if not ret:\n",
    "        break\n",
    "\n",
    "    # 生成图片文件名\n",
    "    frame_filename = os.path.join(output_directory, f'frame_{frame_count:04d}.jpg')\n",
    "    \n",
    "    # 保存帧为图片\n",
    "    cv2.imwrite(frame_filename, frame)\n",
    "    \n",
    "    frame_count += 1\n",
    "\n",
    "# 释放视频对象\n",
    "cap.release()\n",
    "\n",
    "print(f'Saved {frame_count} frames as images in {output_directory}')\n"
   ]
  }
 ],
 "metadata": {
  "kernelspec": {
   "display_name": "backdoorbox",
   "language": "python",
   "name": "python3"
  },
  "language_info": {
   "codemirror_mode": {
    "name": "ipython",
    "version": 3
   },
   "file_extension": ".py",
   "mimetype": "text/x-python",
   "name": "python",
   "nbconvert_exporter": "python",
   "pygments_lexer": "ipython3",
   "version": "3.8.0"
  }
 },
 "nbformat": 4,
 "nbformat_minor": 2
}
